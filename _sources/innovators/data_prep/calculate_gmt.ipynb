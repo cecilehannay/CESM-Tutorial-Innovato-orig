{
 "cells": [
  {
   "cell_type": "code",
   "execution_count": 1,
   "id": "5f08ea22-8f14-4b12-b6e3-12dd0b1e7681",
   "metadata": {},
   "outputs": [],
   "source": [
    "import xarray as xr\n",
    "from functions import *"
   ]
  },
  {
   "cell_type": "code",
   "execution_count": 2,
   "id": "50cc1c4f-0b46-494c-8f6c-5a4a5e82f174",
   "metadata": {},
   "outputs": [],
   "source": [
    "t = xr.open_dataset(\"/glade/scratch/islas/innovators/TREFHT_am_LENS2_second50.nc\")\n",
    "tgm = calc_global_avg(t.TREFHT, 0, 360, -90, 90)"
   ]
  },
  {
   "cell_type": "code",
   "execution_count": 9,
   "id": "f559a127-7c9a-4ed7-9d41-1d740d7bdba0",
   "metadata": {},
   "outputs": [
    {
     "name": "stdout",
     "output_type": "stream",
     "text": [
      "flipping longitudes\n"
     ]
    }
   ],
   "source": [
    "tobs = xr.open_dataset(\"/glade/scratch/islas/innovators/OBS_tas.nc\")\n",
    "tobsgm = calc_global_avg(tobs.tas,0,360,-90,90)"
   ]
  },
  {
   "cell_type": "code",
   "execution_count": 10,
   "id": "6c2a7968-c334-454b-bafc-2ae1848040ec",
   "metadata": {},
   "outputs": [
    {
     "name": "stdout",
     "output_type": "stream",
     "text": [
      "<xarray.DataArray 'tas' (year: 61)>\n",
      "array([14.057421 , 14.133405 , 14.074988 , 14.120947 , 13.85237  ,\n",
      "       13.97342  , 14.035806 , 14.065231 , 13.990815 , 14.139018 ,\n",
      "       14.089683 , 13.972818 , 14.084319 , 14.221785 , 14.016525 ,\n",
      "       14.084511 , 13.9929   , 14.319331 , 14.191977 , 14.267066 ,\n",
      "       14.390591 , 14.438255 , 14.223503 , 14.405276 , 14.236772 ,\n",
      "       14.234155 , 14.286746 , 14.424844 , 14.470281 , 14.357618 ,\n",
      "       14.547815 , 14.531237 , 14.324413 , 14.381368 , 14.430621 ,\n",
      "       14.586897 , 14.476523 , 14.616962 , 14.76684  , 14.525032 ,\n",
      "       14.525345 , 14.659036 , 14.7522955, 14.734002 , 14.647872 ,\n",
      "       14.81345  , 14.765213 , 14.778534 , 14.650091 , 14.785382 ,\n",
      "       14.855817 , 14.746169 , 14.76612  , 14.784198 , 14.856873 ,\n",
      "       14.998598 , 15.136548 , 15.04256  , 14.969328 , 15.105174 ,\n",
      "       15.132457 ], dtype=float32)\n",
      "Coordinates:\n",
      "  * year     (year) int64 1960 1961 1962 1963 1964 ... 2016 2017 2018 2019 2020\n"
     ]
    }
   ],
   "source": [
    "print(tobsgm)"
   ]
  },
  {
   "cell_type": "code",
   "execution_count": 12,
   "id": "9b32b243-e0a4-4f7f-855a-7c086b291dc4",
   "metadata": {},
   "outputs": [],
   "source": [
    "tgm.to_netcdf(\"/glade/scratch/islas/innovators/TREFHT_globalmean_LENS2_second50.nc\")"
   ]
  },
  {
   "cell_type": "code",
   "execution_count": 13,
   "id": "8abc3093-2229-427e-87f9-6965fb770bed",
   "metadata": {},
   "outputs": [],
   "source": [
    "tgm = tgm.rename('model')\n",
    "tobsgm = tobsgm.rename('obs')"
   ]
  },
  {
   "cell_type": "code",
   "execution_count": 15,
   "id": "3b6f4f4d-79f6-49af-a2e9-32b759b30321",
   "metadata": {},
   "outputs": [],
   "source": [
    "tgm.to_netcdf(\"/glade/scratch/islas/innovators/T_CESM_globalmean.nc\")\n",
    "tobsgm.to_netcdf(\"/glade/scratch/islas/innovators/T_OBS_globalmean.nc\")"
   ]
  },
  {
   "cell_type": "code",
   "execution_count": null,
   "id": "0467f0d6-882c-47c9-ad42-07519092dcab",
   "metadata": {},
   "outputs": [],
   "source": []
  }
 ],
 "metadata": {
  "kernelspec": {
   "display_name": "Python [conda env:miniconda3-islaenv]",
   "language": "python",
   "name": "conda-env-miniconda3-islaenv-py"
  },
  "language_info": {
   "codemirror_mode": {
    "name": "ipython",
    "version": 3
   },
   "file_extension": ".py",
   "mimetype": "text/x-python",
   "name": "python",
   "nbconvert_exporter": "python",
   "pygments_lexer": "ipython3",
   "version": "3.7.13"
  }
 },
 "nbformat": 4,
 "nbformat_minor": 5
}
